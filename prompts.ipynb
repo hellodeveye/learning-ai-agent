{
 "cells": [
  {
   "cell_type": "markdown",
   "id": "e1e1193c-1810-4bfa-b782-7c8179f7769e",
   "metadata": {},
   "source": [
    "优秀的提示词:\n",
    "【立角色】:引导AI进入具体场景,赋予其行家身份\n",
    "【述问题】:告诉AI你的困惑和问题,以及背景信息\n",
    "【定目标】:告诉AI你的需求,希望达成的目标\n",
    "【补要求】:告诉AI回答时注意什么,或者如何回复\n",
    "\n",
    "提示词模版:\n",
    "1.将提示词提炼成模板\n",
    "2.实现提示词的复用、版本管理、动态变化等"
   ]
  },
  {
   "cell_type": "markdown",
   "id": "c28d8eef-6ede-4902-ac7a-e3e624b7a636",
   "metadata": {},
   "source": [
    "## Prompt Template"
   ]
  },
  {
   "cell_type": "code",
   "execution_count": 9,
   "id": "3b96f33d-bb89-4b60-9d29-6550b12c2dc6",
   "metadata": {},
   "outputs": [
    {
     "data": {
      "text/plain": [
       "'你是一个大师,帮我起3个具有法国特色的男孩名字'"
      ]
     },
     "execution_count": 9,
     "metadata": {},
     "output_type": "execute_result"
    }
   ],
   "source": [
    "#字符模板\n",
    "from langchain.prompts import PromptTemplate \n",
    "\n",
    "prompt = PromptTemplate.from_template(\"你是一个{name},帮我起{num}个具有{county}特色的{gender}孩名字\")\n",
    "prompt.format(name=\"大师\",county=\"法国\",num=3,gender=\"男\")"
   ]
  },
  {
   "cell_type": "markdown",
   "id": "de10dbd6-3005-4250-914c-431aa57cea85",
   "metadata": {},
   "source": [
    "## ChatPromptTemplate"
   ]
  },
  {
   "cell_type": "code",
   "execution_count": 18,
   "id": "7046dd48-9133-4486-97be-e90b0a49b15e",
   "metadata": {},
   "outputs": [
    {
     "data": {
      "text/plain": [
       "[SystemMessage(content='你是一个起名大师。你的名字叫陈大师.'),\n",
       " HumanMessage(content='你好陈大师,你感觉如何?'),\n",
       " AIMessage(content='你好!我状态非常好!'),\n",
       " HumanMessage(content='你叫什么名字呢?')]"
      ]
     },
     "execution_count": 18,
     "metadata": {},
     "output_type": "execute_result"
    }
   ],
   "source": [
    "from langchain.prompts import ChatPromptTemplate \n",
    "\n",
    "chat_template = ChatPromptTemplate.from_messages(\n",
    "[\n",
    "    (\"system\",\"你是一个起名大师。你的名字叫{name}.\"),\n",
    "    (\"human\",\"你好{name},你感觉如何?\"),\n",
    "    (\"ai\",\"你好!我状态非常好!\"),\n",
    "    (\"human\",\"{user_input}\")\n",
    "])\n",
    "chat_template.format_messages(name=\"陈大师\",user_input=\"你叫什么名字呢?\")\n"
   ]
  },
  {
   "cell_type": "code",
   "execution_count": 21,
   "id": "e5e233bf-d40c-4534-acb7-cff405cf6df2",
   "metadata": {},
   "outputs": [
    {
     "data": {
      "text/plain": [
       "SystemMessage(content='你是一个起名大师', additional_kwargs={'大师姓名': '陈瞎子'})"
      ]
     },
     "execution_count": 21,
     "metadata": {},
     "output_type": "execute_result"
    },
    {
     "data": {
      "text/plain": [
       "HumanMessage(content='请问大师叫什么?')"
      ]
     },
     "execution_count": 21,
     "metadata": {},
     "output_type": "execute_result"
    },
    {
     "data": {
      "text/plain": [
       "AIMessage(content='我叫陈瞎子')"
      ]
     },
     "execution_count": 21,
     "metadata": {},
     "output_type": "execute_result"
    }
   ],
   "source": [
    "from IPython.core.interactiveshell import InteractiveShell\n",
    "InteractiveShell.ast_node_interactivity = \"all\"\n",
    "\n",
    "from langchain.schema import SystemMessage\n",
    "from langchain.schema import HumanMessage\n",
    "from langchain.schema import AIMessage\n",
    "#直接创建消息\n",
    "SystemMessage(\n",
    "content=\"你是一个起名大师\",\n",
    "additional_kwargs={\"大师姓名\":\"陈瞎子\"}\n",
    ")\n",
    "HumanMessage(\n",
    "content=\"请问大师叫什么?\"\n",
    ")\n",
    "AIMessage(\n",
    "content=\"我叫陈瞎子\"\n",
    ")"
   ]
  },
  {
   "cell_type": "markdown",
   "id": "8ae578e3-7860-41fa-8778-db4a9227ad4a",
   "metadata": {},
   "source": [
    "## ChatMessagePromptTemplate"
   ]
  },
  {
   "cell_type": "code",
   "execution_count": 27,
   "id": "5c86ded5-c8fb-433c-99af-fd0aa64b31b6",
   "metadata": {},
   "outputs": [
    {
     "data": {
      "text/plain": [
       "AIMessage(content='愿原力与你同在!')"
      ]
     },
     "execution_count": 27,
     "metadata": {},
     "output_type": "execute_result"
    },
    {
     "data": {
      "text/plain": [
       "SystemMessage(content='愿原力与你同在!')"
      ]
     },
     "execution_count": 27,
     "metadata": {},
     "output_type": "execute_result"
    },
    {
     "data": {
      "text/plain": [
       "HumanMessage(content='愿原力与你同在!')"
      ]
     },
     "execution_count": 27,
     "metadata": {},
     "output_type": "execute_result"
    },
    {
     "data": {
      "text/plain": [
       "ChatMessage(content='愿原力与你同在!', role='天行者')"
      ]
     },
     "execution_count": 27,
     "metadata": {},
     "output_type": "execute_result"
    }
   ],
   "source": [
    "from langchain.prompts import AIMessagePromptTemplate\n",
    "from langchain.prompts import SystemMessagePromptTemplate\n",
    "from langchain.prompts import HumanMessagePromptTemplate\n",
    "from langchain.prompts import ChatMessagePromptTemplate\n",
    "prompt=\"愿{subject}与你同在!\"\n",
    "chat_message_prompt = AIMessagePromptTemplate.from_template(template=prompt)\n",
    "chat_message_prompt.format(subject=\"原力\")\n",
    "\n",
    "chat_message_prompt = SystemMessagePromptTemplate.from_template(template=prompt)\n",
    "chat_message_prompt.format(subject=\"原力\")\n",
    "\n",
    "chat_message_prompt = HumanMessagePromptTemplate.from_template(template=prompt)\n",
    "chat_message_prompt.format(subject=\"原力\")\n",
    "\n",
    "chat_message_prompt = ChatMessagePromptTemplate.from_template(role=\"天行者\",template=prompt)\n",
    "chat_message_prompt.format(subject=\"原力\")\n"
   ]
  },
  {
   "cell_type": "markdown",
   "id": "248b9872-5392-4d81-a743-98427bf7f910",
   "metadata": {},
   "source": [
    "## 自定义模版"
   ]
  },
  {
   "cell_type": "code",
   "execution_count": 72,
   "id": "bfbfc6c5-f19e-4f0b-b504-9b39f01fba12",
   "metadata": {},
   "outputs": [
    {
     "name": "stdout",
     "output_type": "stream",
     "text": [
      "你是一个非常有经验和天赋的程序员,现在给你如下函数名称你会按照如下格式,输出这段代码的名称、源代码、中文解释\n",
      "函数名称:hello_world\n",
      "源代码:\n",
      "def hello_world():\n",
      "    print(\"Hello,world!\")\n",
      "    return \"Hello, world!\"\n",
      "\n",
      "代码解释:\n",
      "\n"
     ]
    },
    {
     "data": {
      "text/plain": [
       "True"
      ]
     },
     "execution_count": 72,
     "metadata": {},
     "output_type": "execute_result"
    },
    {
     "name": "stdout",
     "output_type": "stream",
     "text": [
      "函数名称: hello_world\n",
      "\n",
      "源代码:\n",
      "```python\n",
      "def hello_world():\n",
      "    print(\"Hello, world!\")\n",
      "    return \"Hello, world!\"\n",
      "```\n",
      "\n",
      "中文解释: \n",
      "此函数`hello_world`用于打印并返回字符串\"Hello, world!\"。当调用此函数时，它首先在控制台上打印出问候语，然后返回同样的字符串。\n"
     ]
    }
   ],
   "source": [
    "##函数大师:根据函数名称,查找函数代码,并给出中文的代码说明\n",
    "from langchain.prompts import StringPromptTemplate\n",
    "#定义一个简单的函数作为示例效果\n",
    "def hello_world():\n",
    "    print(\"Hello,world!\")\n",
    "    return \"Hello, world!\"\n",
    "\n",
    "PROMPT = \"\"\"\\\n",
    "你是一个非常有经验和天赋的程序员,现在给你如下函数名称你会按照如下格式,输出这段代码的名称、源代码、中文解释\n",
    "函数名称:{function_name}\n",
    "源代码:\n",
    "{source_code}\n",
    "代码解释:\n",
    "\"\"\"\n",
    "\n",
    "import inspect\n",
    "\n",
    "def get_source_code(function_name):\n",
    "    #获得源代码\n",
    "    return inspect.getsource(function_name)\n",
    "\n",
    "class CustmPrompt(StringPromptTemplate):\n",
    "    def format(self,**kwargs)->str:\n",
    "        #获得源代码\n",
    "        source_code = get_source_code(kwargs[\"function_name\"])\n",
    "        #生成提示词模板\n",
    "        prompt=PROMPT.format(\n",
    "        function_name=kwargs[\"function_name\"].__name__,source_code=source_code\n",
    "        )\n",
    "        return prompt\n",
    "\n",
    "a = CustmPrompt(input_variables=[\"function_name\"])\n",
    "pm = a.format(function_name=hello_world)\n",
    "print(pm)\n",
    "\n",
    "from openai import OpenAI\n",
    "import os\n",
    "from dotenv import load_dotenv\n",
    "\n",
    "load_dotenv(override=True)\n",
    "\n",
    "client = OpenAI(\n",
    "    api_key=os.getenv(\"ALI_QW_API_KEY\"),  \n",
    "    base_url=\"https://dashscope.aliyuncs.com/compatible-mode/v1\",\n",
    ")\n",
    "\n",
    "completion = client.chat.completions.create(\n",
    "    model=\"qwen-long\",\n",
    "    messages=[\n",
    "        {\n",
    "            'role': 'user',\n",
    "            'content': pm\n",
    "        }\n",
    "    ],\n",
    "    stream=False\n",
    ")\n",
    "\n",
    "print(completion.choices[0].message.content)\n",
    "\n"
   ]
  },
  {
   "cell_type": "markdown",
   "id": "6566c92f-6c17-4b86-bdc1-ec15649ff668",
   "metadata": {},
   "source": [
    "## jinjia2 来实现模版格式化"
   ]
  },
  {
   "cell_type": "code",
   "execution_count": 2,
   "id": "db095988-bbc6-4d0f-8a84-bccd4651806c",
   "metadata": {},
   "outputs": [
    {
     "name": "stdout",
     "output_type": "stream",
     "text": [
      "Requirement already satisfied: jinja2 in /opt/miniconda3/envs/jupyter/lib/python3.12/site-packages (3.1.4)\n",
      "Requirement already satisfied: MarkupSafe>=2.0 in /opt/miniconda3/envs/jupyter/lib/python3.12/site-packages (from jinja2) (2.1.3)\n"
     ]
    }
   ],
   "source": [
    "!pip install jinja2"
   ]
  },
  {
   "cell_type": "code",
   "execution_count": null,
   "id": "dffd3f40-c724-437f-8b72-3a23b9b2d9b0",
   "metadata": {},
   "outputs": [],
   "source": [
    "##Jinja2是一个灵活、高效的Python模板引擎,可以方便地生成各种标记格式的文档。\n",
    "from langchain.prompts import PromptTemplate\n",
    "\n",
    "jinja2_template = \"给我讲一个关于{{name}}的{{what}}故事\"\n",
    "prompt = PromptTemplate.from_template(jinja2_template, template_format=\"jinja2\")\n",
    "prompt.format(name=\"狗剩\",what=\"高兴\")"
   ]
  },
  {
   "cell_type": "markdown",
   "id": "a64714c3-cbc3-458b-b144-853bc72a57fe",
   "metadata": {},
   "source": [
    "## 组合式提示词模板\n",
    "Final prompt:最终返回的提示词模板  \n",
    "Pipeline prompts:组成提示词管道的模板\n"
   ]
  },
  {
   "cell_type": "markdown",
   "id": "3477d5ac-bfff-4cf7-9bac-1d62bc45895d",
   "metadata": {},
   "source": [
    "- 三层提示词设计"
   ]
  },
  {
   "cell_type": "code",
   "execution_count": 10,
   "id": "5db075c9-29b6-4cc9-a0e7-b89dbdda7aa6",
   "metadata": {},
   "outputs": [],
   "source": [
    "#Final Prompt由一系列变量构成\n",
    "from langchain.prompts import PromptTemplate\n",
    "\n",
    "full_template= \"\"\"{Character}\n",
    "{behavior}\n",
    "{prohibit}\"\"\"\n",
    "\n",
    "full_prompt = PromptTemplate.from_template(full_template)\n"
   ]
  },
  {
   "cell_type": "code",
   "execution_count": 16,
   "id": "2b68f05f-f010-4ef9-ba07-24f95bbf6bcc",
   "metadata": {},
   "outputs": [
    {
     "name": "stdout",
     "output_type": "stream",
     "text": [
      "给我讲一个关于小王的搞笑的故事\n"
     ]
    }
   ],
   "source": [
    "from langchain.prompts import load_prompt\n",
    "\n",
    "prompt = load_prompt(\"./simple_propmt.yaml\")\n",
    "print(prompt.format(name=\"小王\",what=\"搞笑的\"))\n"
   ]
  }
 ],
 "metadata": {
  "kernelspec": {
   "display_name": "my-condaenv-kernel",
   "language": "python",
   "name": "my-condaenv-kernel"
  },
  "language_info": {
   "codemirror_mode": {
    "name": "ipython",
    "version": 3
   },
   "file_extension": ".py",
   "mimetype": "text/x-python",
   "name": "python",
   "nbconvert_exporter": "python",
   "pygments_lexer": "ipython3",
   "version": "3.12.4"
  }
 },
 "nbformat": 4,
 "nbformat_minor": 5
}
