{
 "cells": [
  {
   "cell_type": "markdown",
   "id": "fbd910bd-a0cc-4c73-aa74-5589a10d320b",
   "metadata": {},
   "source": [
    "## 环境测试"
   ]
  },
  {
   "cell_type": "code",
   "execution_count": null,
   "id": "9854052c-3a9c-4bdd-b126-a7154f4e6f33",
   "metadata": {},
   "outputs": [],
   "source": [
    "# 测试\n",
    "print(\"hello\")"
   ]
  },
  {
   "cell_type": "markdown",
   "id": "ce4ceb21-be61-4834-b354-99d381a66533",
   "metadata": {},
   "source": [
    "**安装LangChain**"
   ]
  },
  {
   "cell_type": "code",
   "execution_count": null,
   "id": "6eec681f-c7e8-479a-a88e-6fef4fe3aed4",
   "metadata": {
    "scrolled": true
   },
   "outputs": [],
   "source": [
    "!pip install --upgrade langchain -i https://pypi.org/simple"
   ]
  },
  {
   "cell_type": "code",
   "execution_count": null,
   "id": "9c1a4090-6436-44ec-b962-0cdc480422db",
   "metadata": {
    "scrolled": true
   },
   "outputs": [],
   "source": [
    "!pip install --upgrade langchain -i https://pypi.org/simple"
   ]
  },
  {
   "cell_type": "code",
   "execution_count": null,
   "id": "7eefb337-56de-425e-8a0c-dcd339da3294",
   "metadata": {},
   "outputs": [],
   "source": [
    "# 安装openapi\n",
    "!pip install openai==v0.28.1 -i https://pypi.org/simple"
   ]
  },
  {
   "cell_type": "markdown",
   "id": "c08dc915-a17f-402d-a475-9c97403f0301",
   "metadata": {},
   "source": [
    "**引入openaikey**"
   ]
  },
  {
   "cell_type": "markdown",
   "id": "f6356fd3-b0de-4c7b-8f25-fc23e7e96c68",
   "metadata": {},
   "source": [
    "**引入openai**"
   ]
  },
  {
   "cell_type": "code",
   "execution_count": null,
   "id": "93d9f5fa-e440-4f28-bd95-47f1c8f49999",
   "metadata": {},
   "outputs": [],
   "source": [
    "!pip3 install langchain"
   ]
  },
  {
   "cell_type": "code",
   "execution_count": null,
   "id": "d03d34c3-a941-4f77-bc03-a53b97caf50f",
   "metadata": {},
   "outputs": [],
   "source": [
    "!/opt/miniconda3/bin/python -m pip install openai  "
   ]
  },
  {
   "cell_type": "code",
   "execution_count": null,
   "id": "e35beb44-e98b-4dcf-bdc6-3a3bf55e3cf1",
   "metadata": {},
   "outputs": [],
   "source": [
    "from openai import OpenAI\n",
    "client = OpenAI()\n",
    "\n",
    "completion = client.chat.completions.create(\n",
    "    model=\"gpt-3.5-turbo\",\n",
    "    messages=[\n",
    "        {\"role\": \"system\", \"content\": \"You are a helpful assistant.\"},\n",
    "        {\n",
    "            \"role\": \"user\",\n",
    "            \"content\": \"Write a haiku about recursion in programming.\"\n",
    "        }\n",
    "    ]\n",
    ")\n",
    "\n",
    "print(completion.choices[0].message)"
   ]
  },
  {
   "cell_type": "markdown",
   "id": "6b1b8f75-35d2-41ae-8b98-c29a7eabaec2",
   "metadata": {},
   "source": [
    "## 阿里千问api"
   ]
  },
  {
   "cell_type": "code",
   "execution_count": 17,
   "id": "12da6aca-a701-4c5e-a3e9-f85377bad30d",
   "metadata": {},
   "outputs": [
    {
     "name": "stdout",
     "output_type": "stream",
     "text": [
      "{'delta': {'content': '', 'function_call': None, 'refusal': None, 'role': 'assistant', 'tool_calls': None}, 'finish_reason': None, 'index': 0, 'logprobs': None}\n",
      "{'delta': {'content': '文章', 'function_call': None, 'refusal': None, 'role': None, 'tool_calls': None}, 'finish_reason': None, 'index': 0, 'logprobs': None}\n",
      "{'delta': {'content': '讲述了', 'function_call': None, 'refusal': None, 'role': None, 'tool_calls': None}, 'finish_reason': None, 'index': 0, 'logprobs': None}\n",
      "{'delta': {'content': '大型', 'function_call': None, 'refusal': None, 'role': None, 'tool_calls': None}, 'finish_reason': None, 'index': 0, 'logprobs': None}\n",
      "{'delta': {'content': '语言', 'function_call': None, 'refusal': None, 'role': None, 'tool_calls': None}, 'finish_reason': None, 'index': 0, 'logprobs': None}\n",
      "{'delta': {'content': '模型（LLM', 'function_call': None, 'refusal': None, 'role': None, 'tool_calls': None}, 'finish_reason': None, 'index': 0, 'logprobs': None}\n",
      "{'delta': {'content': '）在人工智能领域的', 'function_call': None, 'refusal': None, 'role': None, 'tool_calls': None}, 'finish_reason': None, 'index': 0, 'logprobs': None}\n",
      "{'delta': {'content': '革新作用。它', 'function_call': None, 'refusal': None, 'role': None, 'tool_calls': None}, 'finish_reason': None, 'index': 0, 'logprobs': None}\n",
      "{'delta': {'content': '强调了这些模型', 'function_call': None, 'refusal': None, 'role': None, 'tool_calls': None}, 'finish_reason': None, 'index': 0, 'logprobs': None}\n",
      "{'delta': {'content': '如何使得一些过去', 'function_call': None, 'refusal': None, 'role': None, 'tool_calls': None}, 'finish_reason': None, 'index': 0, 'logprobs': None}\n",
      "{'delta': {'content': '认为只有人类才能', 'function_call': None, 'refusal': None, 'role': None, 'tool_calls': None}, 'finish_reason': None, 'index': 0, 'logprobs': None}\n",
      "{'delta': {'content': '完成的自然语言', 'function_call': None, 'refusal': None, 'role': None, 'tool_calls': None}, 'finish_reason': None, 'index': 0, 'logprobs': None}\n",
      "{'delta': {'content': '处理任务成为现实', 'function_call': None, 'refusal': None, 'role': None, 'tool_calls': None}, 'finish_reason': None, 'index': 0, 'logprobs': None}\n",
      "{'delta': {'content': '。', 'function_call': None, 'refusal': None, 'role': None, 'tool_calls': None}, 'finish_reason': 'stop', 'index': 0, 'logprobs': None}\n"
     ]
    }
   ],
   "source": [
    "from openai import OpenAI\n",
    "import os\n",
    "from dotenv import load_dotenv\n",
    "\n",
    "load_dotenv(override=True)\n",
    "client = OpenAI(\n",
    "    api_key=os.getenv(\"ALI_QW_API_KEY\"),  \n",
    "    base_url=\"https://dashscope.aliyuncs.com/compatible-mode/v1\",\n",
    ")\n",
    "\n",
    "completion = client.chat.completions.create(\n",
    "    model=\"qwen-long\",\n",
    "    messages=[\n",
    "        {\n",
    "            'role': 'system',\n",
    "            'content': 'You are a helpful assistant.'\n",
    "        },\n",
    "        {\n",
    "            'role': 'system',\n",
    "            'content': '大型语言模型(llm)已经彻底改变了人工智能领域，使以前被认为是人类独有的自然语言处理任务成为可能...'\n",
    "        },\n",
    "        {\n",
    "            'role': 'user',\n",
    "            'content': '文章讲了什么？'\n",
    "        }\n",
    "    ],\n",
    "    stream=True\n",
    ")\n",
    "for chunk in completion:\n",
    "    if chunk.choices[0].delta.content is not None:\n",
    "        print(chunk.choices[0].dict())\n"
   ]
  }
 ],
 "metadata": {
  "kernelspec": {
   "display_name": "my-condaenv-kernel",
   "language": "python",
   "name": "my-condaenv-kernel"
  },
  "language_info": {
   "codemirror_mode": {
    "name": "ipython",
    "version": 3
   },
   "file_extension": ".py",
   "mimetype": "text/x-python",
   "name": "python",
   "nbconvert_exporter": "python",
   "pygments_lexer": "ipython3",
   "version": "3.12.4"
  }
 },
 "nbformat": 4,
 "nbformat_minor": 5
}
