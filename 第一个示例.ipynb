{
 "cells": [
  {
   "cell_type": "markdown",
   "id": "fbd910bd-a0cc-4c73-aa74-5589a10d320b",
   "metadata": {},
   "source": [
    "## 环境测试"
   ]
  },
  {
   "cell_type": "code",
   "execution_count": null,
   "id": "9854052c-3a9c-4bdd-b126-a7154f4e6f33",
   "metadata": {},
   "outputs": [],
   "source": [
    "# 测试\n",
    "print(\"hello\")"
   ]
  },
  {
   "cell_type": "markdown",
   "id": "ce4ceb21-be61-4834-b354-99d381a66533",
   "metadata": {},
   "source": [
    "**安装LangChain**"
   ]
  },
  {
   "cell_type": "code",
   "execution_count": null,
   "id": "6eec681f-c7e8-479a-a88e-6fef4fe3aed4",
   "metadata": {
    "scrolled": true
   },
   "outputs": [],
   "source": [
    "!pip install --upgrade langchain -i https://pypi.org/simple"
   ]
  },
  {
   "cell_type": "code",
   "execution_count": null,
   "id": "9c1a4090-6436-44ec-b962-0cdc480422db",
   "metadata": {
    "scrolled": true
   },
   "outputs": [],
   "source": [
    "!pip install --upgrade langchain -i https://pypi.org/simple"
   ]
  },
  {
   "cell_type": "code",
   "execution_count": null,
   "id": "7eefb337-56de-425e-8a0c-dcd339da3294",
   "metadata": {},
   "outputs": [],
   "source": [
    "# 安装openapi\n",
    "!pip install openai==v0.28.1 -i https://pypi.org/simple"
   ]
  },
  {
   "cell_type": "markdown",
   "id": "c08dc915-a17f-402d-a475-9c97403f0301",
   "metadata": {},
   "source": [
    "**引入openaikey**"
   ]
  },
  {
   "cell_type": "markdown",
   "id": "f6356fd3-b0de-4c7b-8f25-fc23e7e96c68",
   "metadata": {},
   "source": [
    "**引入openai**"
   ]
  },
  {
   "cell_type": "code",
   "execution_count": 43,
   "id": "93d9f5fa-e440-4f28-bd95-47f1c8f49999",
   "metadata": {},
   "outputs": [
    {
     "name": "stderr",
     "output_type": "stream",
     "text": [
      "UsageError: Line magic function `%pip3` not found.\n"
     ]
    }
   ],
   "source": [
    "!pip3 install langchain"
   ]
  },
  {
   "cell_type": "code",
   "execution_count": 42,
   "id": "d03d34c3-a941-4f77-bc03-a53b97caf50f",
   "metadata": {},
   "outputs": [
    {
     "name": "stderr",
     "output_type": "stream",
     "text": [
      "UsageError: Line magic function `%/opt/miniconda3/bin/python` not found.\n"
     ]
    }
   ],
   "source": [
    "!/opt/miniconda3/bin/python -m pip install openai  "
   ]
  },
  {
   "cell_type": "code",
   "execution_count": null,
   "id": "e35beb44-e98b-4dcf-bdc6-3a3bf55e3cf1",
   "metadata": {},
   "outputs": [],
   "source": [
    "from openai import OpenAI\n",
    "client = OpenAI()\n",
    "\n",
    "completion = client.chat.completions.create(\n",
    "    model=\"gpt-3.5-turbo\",\n",
    "    messages=[\n",
    "        {\"role\": \"system\", \"content\": \"You are a helpful assistant.\"},\n",
    "        {\n",
    "            \"role\": \"user\",\n",
    "            \"content\": \"Write a haiku about recursion in programming.\"\n",
    "        }\n",
    "    ]\n",
    ")\n",
    "\n",
    "print(completion.choices[0].message)"
   ]
  },
  {
   "cell_type": "markdown",
   "id": "6b1b8f75-35d2-41ae-8b98-c29a7eabaec2",
   "metadata": {},
   "source": [
    "## 阿里千问api"
   ]
  },
  {
   "cell_type": "code",
   "execution_count": null,
   "id": "12da6aca-a701-4c5e-a3e9-f85377bad30d",
   "metadata": {},
   "outputs": [],
   "source": [
    "from openai import OpenAI\n",
    "import os\n",
    "from dotenv import load_dotenv\n",
    "\n",
    "load_dotenv(override=True)\n",
    "client = OpenAI(\n",
    "    api_key=os.getenv(\"ALI_QW_API_KEY\"),  \n",
    "    base_url=\"https://dashscope.aliyuncs.com/compatible-mode/v1\",\n",
    ")\n",
    "\n",
    "completion = client.chat.completions.create(\n",
    "    model=\"qwen-long\",\n",
    "    messages=[\n",
    "        {\n",
    "            'role': 'system',\n",
    "            'content': 'You are a helpful assistant.'\n",
    "        },\n",
    "        {\n",
    "            'role': 'system',\n",
    "            'content': '大型语言模型(llm)已经彻底改变了人工智能领域，使以前被认为是人类独有的自然语言处理任务成为可能...'\n",
    "        },\n",
    "        {\n",
    "            'role': 'user',\n",
    "            'content': '文章讲了什么？'\n",
    "        }\n",
    "    ],\n",
    "    stream=True\n",
    ")\n",
    "for chunk in completion:\n",
    "    if chunk.choices[0].delta.content is not None:\n",
    "        print(chunk.choices[0].dict())\n"
   ]
  },
  {
   "cell_type": "code",
   "execution_count": 5,
   "id": "f1db13fe",
   "metadata": {},
   "outputs": [
    {
     "data": {
      "text/plain": [
       "\"Sure, let's break this down step by step.\\n\\n1. **Identify the year and location of the Olympic Games**: \\n   - The Olympic Games were held in 2008.\\n   - In 2008, the Summer Olympics (also known as the Games of the XXIX Olympiad) were hosted by Beijing, China.\\n\\n2. **Determine the capital city**: \\n   - Beijing is the capital city of China.\\n\\n3. **Find the current population of Beijing**:\\n   - As of 2021, the estimated population of Beijing was approximately 21.54 million people.\\n\\nTherefore, the population of the capital of the country where the Olympic Games were held in 2008 (Beijing, China) is around 21.54 million. Note that the exact figure may vary slightly depending on the source and the specific year of the estimate.\""
      ]
     },
     "execution_count": 5,
     "metadata": {},
     "output_type": "execute_result"
    }
   ],
   "source": [
    "from langchain.chat_models import ChatOpenAI\n",
    "from langchain import PromptTemplate, LLMChain\n",
    "import os\n",
    "from dotenv import load_dotenv\n",
    "\n",
    "# 加载环境变量\n",
    "load_dotenv(override=True)\n",
    "\n",
    "template = \"\"\"Question: {question}\n",
    "Let's think step by step.\n",
    "Answer: \"\"\"\n",
    "prompt = PromptTemplate(template=template, input_variables=[\"question\"])\n",
    "\n",
    "# 修改ChatOpenAI的配置以使用阿里千问API\n",
    "llm = ChatOpenAI(\n",
    "    model_name=\"qwen-long\",\n",
    "    openai_api_key=os.getenv(\"ALI_QW_API_KEY\"),\n",
    "    openai_api_base=\"https://dashscope.aliyuncs.com/compatible-mode/v1\"\n",
    ")\n",
    "\n",
    "llm_chain = LLMChain(prompt=prompt, llm=llm)\n",
    "question = \"\"\"What is the population of the capital of the country\n",
    "where the Olympic Games were held in 2008?\"\"\"\n",
    "llm_chain.run(question)"
   ]
  },
  {
   "cell_type": "code",
   "execution_count": 12,
   "id": "6268dafc",
   "metadata": {},
   "outputs": [
    {
     "name": "stdout",
     "output_type": "stream",
     "text": [
      "/opt/miniconda3/bin/python\n"
     ]
    }
   ],
   "source": [
    "# 查看python执行目录\n",
    "import sys\n",
    "print(sys.executable)"
   ]
  },
  {
   "cell_type": "markdown",
   "id": "e10bfce7",
   "metadata": {},
   "source": [
    "# 使用工具"
   ]
  },
  {
   "cell_type": "code",
   "execution_count": 44,
   "id": "c5a78ec3",
   "metadata": {},
   "outputs": [
    {
     "name": "stdout",
     "output_type": "stream",
     "text": [
      "Requirement already satisfied: wikipedia in /opt/miniconda3/lib/python3.12/site-packages (1.4.0)\n",
      "Requirement already satisfied: beautifulsoup4 in /opt/miniconda3/lib/python3.12/site-packages (from wikipedia) (4.12.3)\n",
      "Requirement already satisfied: requests<3.0.0,>=2.0.0 in /opt/miniconda3/lib/python3.12/site-packages (from wikipedia) (2.32.2)\n",
      "Requirement already satisfied: charset-normalizer<4,>=2 in /opt/miniconda3/lib/python3.12/site-packages (from requests<3.0.0,>=2.0.0->wikipedia) (2.0.4)\n",
      "Requirement already satisfied: idna<4,>=2.5 in /opt/miniconda3/lib/python3.12/site-packages (from requests<3.0.0,>=2.0.0->wikipedia) (3.7)\n",
      "Requirement already satisfied: urllib3<3,>=1.21.1 in /opt/miniconda3/lib/python3.12/site-packages (from requests<3.0.0,>=2.0.0->wikipedia) (2.2.2)\n",
      "Requirement already satisfied: certifi>=2017.4.17 in /opt/miniconda3/lib/python3.12/site-packages (from requests<3.0.0,>=2.0.0->wikipedia) (2024.7.4)\n",
      "Requirement already satisfied: soupsieve>1.2 in /opt/miniconda3/lib/python3.12/site-packages (from beautifulsoup4->wikipedia) (2.6)\n",
      "Note: you may need to restart the kernel to use updated packages.\n",
      "\u001b[31mERROR: Could not find a version that satisfies the requirement llm-math (from versions: none)\u001b[0m\u001b[31m\n",
      "\u001b[0m\u001b[31mERROR: No matching distribution found for llm-math\u001b[0m\u001b[31m\n",
      "\u001b[0mNote: you may need to restart the kernel to use updated packages.\n"
     ]
    }
   ],
   "source": [
    "%pip install wikipedia\n",
    "%pip install llm-math"
   ]
  },
  {
   "cell_type": "code",
   "execution_count": 15,
   "id": "42f25adb",
   "metadata": {},
   "outputs": [
    {
     "name": "stdout",
     "output_type": "stream",
     "text": [
      "\n",
      "\n",
      "\u001b[1m> Entering new AgentExecutor chain...\u001b[0m\n",
      "\u001b[32;1m\u001b[1;3mI need to find out which country hosted the Olympic Games in 2008 and then find the population of its capital.\n",
      "Action: wikipedia\n",
      "Action Input: 2008 Summer Olympics\u001b[0m\n",
      "Observation: \u001b[36;1m\u001b[1;3mPage: 2008 Summer Olympics\n",
      "Summary: The 2008 Summer Olympics (Chinese: 2008年夏季奥运会; pinyin: Èr Líng Líng Bā Nián Xiàjì Àoyùnhuì), officially the Games of the XXIX Olympiad (Chinese: 第二十九届夏季奥林匹克运动会; pinyin: Dì Èrshíjiǔ Jiè Xiàjì Àolínpǐkè Yùndònghuì) and officially branded as Beijing 2008 (Chinese: 北京2008; pinyin: Běijīng èr líng líng bā), were an international multisport event held from 8 to 24 August 2008, in Beijing, China. A total of 10,942 athletes from 204 National Olympic Committees (NOCs) competed in 28 sports and 302 events, one event more than those scheduled for the 2004 Summer Olympics. This was the first time China had hosted the Olympic Games, and the third time the Summer Olympic Games had been held in East Asia, following the 1964 Olympics in Tokyo, Japan, and the 1988 Olympics in Seoul, South Korea. These were also the second Summer Olympic Games to be held in a communist state, the first being the 1980 Summer Olympics in the Soviet Union (with venues in Russia, Ukraine, Byelorussia, and Estonia).\n",
      "Beijing was awarded the 2008 Games over four competitors on 13 July 2001, having won a majority of votes from members of the International Olympic Committee (IOC) after two rounds of voting. The Government of the People's Republic of China promoted the 2008 Games and invested heavily in new facilities and transport systems. 37 venues were used to host the events, including twelve constructed specifically for the 2008 Games. The equestrian events were held in Hong Kong, making these the third Olympics for which the events were held under the jurisdiction of two different NOCs. The sailing events were contested in Qingdao, while the football events took place across several different cities.\n",
      "The official logo for the 2008 Games, titled \"Dancing Beijing\" (舞动北京), created by Guo Chunning (郭春宁), featured the Chinese character for capital (京, stylized into the shape of a human being) in reference to the host city. The 2008 Olympics were watched by 3.5 billion people worldwide, and featured the longest distance for an Olympic Torch relay. The 2008 Games also set numerous world and Olympic records, and were the most expensive Summer Olympics of all time, and the second most expensive overall, after the 2014 Winter Games in Sochi. The opening ceremony was lauded by spectators and numerous international presses as spectacular, spellbinding, and by many accounts, \"the greatest ever in the history of Olympics\". Beijing hosted the 2022 Winter Olympics, making it the first city ever to host both the Summer and Winter Games.\n",
      "An unprecedented 87 countries won at least one medal during the 2008 Games. Host nation China won the most gold medals (48), and became the seventh different team to top an overall Summer Olympics medal tally, winning a total of 100 medals overall. The United States placed second in the gold medal tally but won the highest number of medals overall (112). The third place in the gold medal tally was achieved by Russia.\n",
      "This Olympic Games marked the return of the Summer Olympic Games to Asia after the 1988 Olympics in South Korea. It was the first Olympics for Serbia as a separate state since 1912 and the first for Montenegro, having separated from Serbia in 2006. It was also the first Olympics for Nepal as a republic, the Marshall Islands and Tuvalu. Mongolia and Panama each won their first Olympic gold medal. In addition, Afghanistan, Mauritius, Serbia, Sudan, Tajikistan and Togo won their first Olympic medals at these Games. North Korea, having symbolically marched with South Korea as one team at the opening ceremonies of the preceding three Games that it entered (2000 in Sydney, 2004 in Athens, and 2006 in Turin), paraded separately this time.\n",
      "\n",
      "Page: Gymnastics at the 2008 Summer Olympics\n",
      "Summary: At the 2008 Summer Olympics, three gymnastics disciplines were contested: artistic gymnastics, rhythmic gymnastics and trampoline.  The artistic gymnastics events were held at the Beijing National Indoor Stadium on Augu\u001b[0m\n",
      "Thought:\u001b[32;1m\u001b[1;3mI now know that the 2008 Olympic Games were held in Beijing, China. I need to find the population of Beijing.\n",
      "Action: wikipedia\n",
      "Action Input: Population of Beijing\u001b[0m\n",
      "Observation: \u001b[36;1m\u001b[1;3mPage: Beijing\n",
      "Summary: Beijing, previously romanized as Peking, is the capital of China. With more than 22 million residents, Beijing is the world's second most populous national capital city as well as China's second largest city after Shanghai. It is located in Northern China, and is governed as a municipality under the direct administration of the State Council with 16 urban, suburban, and rural districts. Beijing is mostly surrounded by Hebei Province with the exception of neighboring Tianjin to the southeast; together, the three divisions form the Jingjinji megalopolis and the national capital region of China.\n",
      "Beijing is a global city and one of the world's leading centres for culture, diplomacy, politics, finance, business and economics, education, research, language, tourism, media, sport, science and technology and transportation and art. It is home to the headquarters of most of China's largest state-owned companies and houses the largest number of Fortune Global 500 companies in the world, as well as the world's four biggest financial institutions by total assets. It is also a major hub for the national highway, expressway, railway, and high-speed rail networks. For a decade before the COVID-19 pandemic, the Beijing Capital International Airport was Asia's busiest airport (2009–2019) and the second busiest airport in the world (2010–2019). In 2020, the Beijing subway was the fourth busiest and second longest in the world. The Beijing Daxing International Airport, Beijing's second international airport, is the largest single-structure airport terminal in the world. The city has hosted numerous international and national sporting events, the most notable being the 2008 Summer Olympics and 2008 Summer Paralympics Games. In 2022, Beijing became the first city ever to host both the Summer and Winter Olympics, and also the Summer and Winter Paralympics. \n",
      "Beijing combines both modern and traditional style architectures, with one side of the city being modernized and renovated to fit the times, and the other half still offering traditional hutong districts. Beijing is one of the oldest cities in the world, with a rich history dating back over three millennia. As the last of the Four Great Ancient Capitals of China, Beijing has been the political center of the country for most of the past eight centuries, and was the largest city in the world by population for much of the second millennium CE. With mountains surrounding the inland city on three sides, in addition to the old inner and outer city walls, Beijing was strategically poised and developed to be the residence of the emperor and thus was the perfect location for the imperial capital. The city is renowned for its opulent palaces, temples, parks, gardens, tombs, walls and gates. Beijing is one of the most important tourist destinations of the world. In 2018, Beijing was the second highest earning tourist city in the world after Shanghai. Beijing is home to many national monuments and museums and has eight UNESCO World Heritage Sites—the Forbidden City, Temple of Heaven, Summer Palace, Ming Tombs, Zhoukoudian Peking Man Site, Beijing Central Axis and parts of the Great Wall and the Grand Canal—all of which are popular tourist locations. Siheyuans, the city's traditional housing style, and hutongs, the narrow alleys between siheyuans, are major tourist attractions and are common in urban Beijing.\n",
      "Beijing's public universities make up more than one-fifth of Double First-Class Construction universities, and many of them consistently rank among the best in the Asia-Pacific and the world. Beijing is home to the two best C9 League universities (Tsinghua and Peking) in Asia & Oceania region and emerging countries. Beijing CBD is a center for Beijing's economic expansion, with the ongoing or recently completed construction of multiple skyscrapers. Beijing's Zhongguancun area is a world leading center of scientific and technological innovation as well as entrepreneurship. Beijing \u001b[0m\n",
      "Thought:\u001b[32;1m\u001b[1;3mI now know the final answer\n",
      "Final Answer: The population of Beijing, the capital of China where the 2008 Olympic Games were held, is more than 22 million residents.\u001b[0m\n",
      "\n",
      "\u001b[1m> Finished chain.\u001b[0m\n"
     ]
    },
    {
     "data": {
      "text/plain": [
       "'The population of Beijing, the capital of China where the 2008 Olympic Games were held, is more than 22 million residents.'"
      ]
     },
     "execution_count": 15,
     "metadata": {},
     "output_type": "execute_result"
    }
   ],
   "source": [
    "from langchain.chat_models import ChatOpenAI\n",
    "from langchain import PromptTemplate, LLMChain\n",
    "from langchain.agents import load_tools, initialize_agent, AgentType\n",
    "import os\n",
    "from dotenv import load_dotenv\n",
    "\n",
    "# 加载环境变量\n",
    "load_dotenv(override=True)\n",
    "\n",
    "template = \"\"\"Question: {question}\n",
    "Let's think step by step.\n",
    "Answer: \"\"\"\n",
    "prompt = PromptTemplate(template=template, input_variables=[\"question\"])\n",
    "\n",
    "# 修改ChatOpenAI的配置以使用阿里千问API\n",
    "llm = ChatOpenAI(\n",
    "    model_name=\"qwen-long\",\n",
    "    openai_api_key=os.getenv(\"ALI_QW_API_KEY\"),\n",
    "    openai_api_base=\"https://dashscope.aliyuncs.com/compatible-mode/v1\"\n",
    ")\n",
    "tools = load_tools([\"wikipedia\",\"llm-math\"], llm=llm)\n",
    "agent = initialize_agent(\n",
    "    tools, llm, agent=AgentType.ZERO_SHOT_REACT_DESCRIPTION,\n",
    "    verbose=True\n",
    ")\n",
    "\n",
    "question = \"\"\"What is the population of the capital of the country\n",
    "where the Olympic Games were held in 2008?\"\"\"\n",
    "agent.run(question)"
   ]
  },
  {
   "cell_type": "markdown",
   "id": "a4296e9d",
   "metadata": {},
   "source": [
    "# 使用ConversationChanin 记忆"
   ]
  },
  {
   "cell_type": "code",
   "execution_count": 16,
   "id": "7d618bd3",
   "metadata": {},
   "outputs": [
    {
     "name": "stderr",
     "output_type": "stream",
     "text": [
      "/opt/miniconda3/lib/python3.12/site-packages/langchain_core/_api/deprecation.py:141: LangChainDeprecationWarning: The class `ConversationChain` was deprecated in LangChain 0.2.7 and will be removed in 1.0. Use RunnableWithMessageHistory: https://api.python.langchain.com/en/latest/runnables/langchain_core.runnables.history.RunnableWithMessageHistory.html instead.\n",
      "  warn_deprecated(\n"
     ]
    },
    {
     "name": "stdout",
     "output_type": "stream",
     "text": [
      "\n",
      "\n",
      "\u001b[1m> Entering new ConversationChain chain...\u001b[0m\n",
      "Prompt after formatting:\n",
      "\u001b[32;1m\u001b[1;3mThe following is a friendly conversation between a human and an AI. The AI is talkative and provides lots of specific details from its context. If the AI does not know the answer to a question, it truthfully says it does not know.\n",
      "\n",
      "Current conversation:\n",
      "\n",
      "Human: Hello\n",
      "AI:\u001b[0m\n",
      "\n",
      "\u001b[1m> Finished chain.\u001b[0m\n"
     ]
    },
    {
     "data": {
      "text/plain": [
       "\"Hello there! How can I help you today? I'm full of information and ready to chat. What's on your mind?\""
      ]
     },
     "execution_count": 16,
     "metadata": {},
     "output_type": "execute_result"
    }
   ],
   "source": [
    "from langchain import OpenAI, ConversationChain\n",
    "from langchain import PromptTemplate, LLMChain\n",
    "from langchain.agents import load_tools, initialize_agent, AgentType\n",
    "import os\n",
    "from dotenv import load_dotenv\n",
    "\n",
    "# 加载环境变量\n",
    "load_dotenv(override=True)\n",
    "chatbot_llm = llm = ChatOpenAI(\n",
    "    model_name=\"qwen-long\",\n",
    "    openai_api_key=os.getenv(\"ALI_QW_API_KEY\"),\n",
    "    openai_api_base=\"https://dashscope.aliyuncs.com/compatible-mode/v1\"\n",
    ")\n",
    "chatbot = ConversationChain(llm=chatbot_llm , verbose=True)\n",
    "chatbot.predict(input='Hello')"
   ]
  },
  {
   "cell_type": "markdown",
   "id": "d16558ef",
   "metadata": {},
   "source": [
    "# 使用嵌入"
   ]
  },
  {
   "cell_type": "code",
   "execution_count": 41,
   "id": "053b320f",
   "metadata": {},
   "outputs": [
    {
     "name": "stdout",
     "output_type": "stream",
     "text": [
      "Requirement already satisfied: pypdf in /opt/miniconda3/lib/python3.12/site-packages (4.3.1)\n",
      "Note: you may need to restart the kernel to use updated packages.\n",
      "Requirement already satisfied: faiss-cpu in /opt/miniconda3/lib/python3.12/site-packages (1.8.0.post1)\n",
      "Requirement already satisfied: numpy<2.0,>=1.0 in /opt/miniconda3/lib/python3.12/site-packages (from faiss-cpu) (1.26.4)\n",
      "Requirement already satisfied: packaging in /opt/miniconda3/lib/python3.12/site-packages (from faiss-cpu) (23.2)\n",
      "Note: you may need to restart the kernel to use updated packages.\n"
     ]
    }
   ],
   "source": [
    "%pip install pypdf\n",
    "%pip install faiss-cpu"
   ]
  },
  {
   "cell_type": "code",
   "execution_count": 37,
   "id": "c128b06d",
   "metadata": {},
   "outputs": [
    {
     "data": {
      "text/plain": [
       "True"
      ]
     },
     "execution_count": 37,
     "metadata": {},
     "output_type": "execute_result"
    },
    {
     "name": "stdout",
     "output_type": "stream",
     "text": [
      "page_content='云呼平台接口文档 \n",
      "7  \n",
      "2.1.3  AXyb模式绑定  \n",
      "1) 功能代码 : middle NumberAX  \n",
      "2) 功能介绍  \n",
      "提前绑定小号号码、 号码 A的关系， autoBindY 为1时，号码 B呼叫小号时自动绑定号码 Y，在号码 A上显\n",
      "示号码 Y，autoBindY  为0时，需要用接口 middleNumberXYB 绑定号码 Y和B。 \n",
      "3) 接口参数  \n",
      "参数 参数说明  数据类型  必须 备注 \n",
      "middleNumber  小号号码  String  是 平台分配的小号 X \n",
      "bindNumberA  绑定小号的号码 A String  是 格式要求：手机号  \n",
      "callRec  是否对通话录音，  \n",
      "1：开启， 0：关闭  int 否 默认开启，线路不支持时无效  \n",
      "maxBindingTime  绑定关系有效时长  int 否 为空表示绑定关系永久，单位 :秒 \n",
      "callbackUrl  呼叫结果推送地址，\n",
      "http协议 String  否 http,可自由指定呼叫结果推送的地址  \n",
      "mode  绑定模式  int 是 必须填 4: AXyb 模式 \n",
      "autoBindY  号码 B呼入时是否自\n",
      "动绑定号码 Y String  否 缺省为自动分配号码 Y \n",
      "4) 响应参数  \n",
      "参数 参数说明  数据类型  备注 \n",
      "result  响应结果  String  000000 表示提交成功，详见 响应代码  \n",
      "message  响应代码具体原因  String  详见响应代码  \n",
      "bindId  绑定 ID String  小号绑定关系唯一标识  \n",
      "middleNumber  绑定的小号  String  绑定成功的小号号码  \n",
      " \n",
      " \n",
      "2.1.4  XYB模式绑定  \n",
      "7) 功能代码 : middleNumberXYB  \n",
      "8) 功能介绍  \n",
      "绑定小号 X、小号 Y，号码 B的关系。' metadata={'source': './云信小号接口文档.pdf', 'page': 8}\n"
     ]
    }
   ],
   "source": [
    "from IPython.core.interactiveshell import InteractiveShell\n",
    "InteractiveShell.ast_node_interactivity = \"all\"\n",
    "from langchain.embeddings.base import Embeddings\n",
    "from langchain.vectorstores import FAISS\n",
    "from langchain.document_loaders import PyPDFLoader\n",
    "import os\n",
    "from dotenv import load_dotenv\n",
    "from typing import List\n",
    "import dashscope\n",
    "\n",
    "# 加载环境变量\n",
    "load_dotenv(override=True)\n",
    "\n",
    "# 设置阿里云API密钥\n",
    "dashscope.api_key = os.getenv(\"ALI_QW_API_KEY\")\n",
    "\n",
    "class AliEmbeddings(Embeddings):\n",
    "    def embed_documents(self, texts: List[str]) -> List[List[float]]:\n",
    "        results = []\n",
    "        for text in texts:\n",
    "            response = dashscope.TextEmbedding.call(model=\"text-embedding-v3\", input=text)\n",
    "            if response.status_code == 200:\n",
    "                results.append(response.output['embeddings'][0][\"embedding\"])\n",
    "            else:\n",
    "                raise Exception(f\"Error: {response.code}, {response.message}\")\n",
    "        return results\n",
    "\n",
    "    def embed_query(self, text: str) -> List[float]:\n",
    "        response = dashscope.TextEmbedding.call(model=\"text-embedding-v3\", input=text)\n",
    "        if response.status_code == 200:\n",
    "            return response.output['embeddings'][0][\"embedding\"]\n",
    "        else:\n",
    "            raise Exception(f\"Error: {response.code}, {response.message}\")\n",
    "\n",
    "# 加载PDF文档\n",
    "loader = PyPDFLoader(\"./云信小号接口文档.pdf\")\n",
    "pages = loader.load_and_split()\n",
    "\n",
    "# 创建嵌入和向量存储\n",
    "embeddings = AliEmbeddings()\n",
    "db = FAISS.from_documents(pages, embeddings)\n",
    "\n",
    "# 执行相似性搜索\n",
    "q = \"小号有几种模式绑定?\"\n",
    "result = db.similarity_search(q)[0]\n",
    "print(result)"
   ]
  },
  {
   "cell_type": "markdown",
   "id": "e6e57e16",
   "metadata": {},
   "source": [
    "# 向量信息检索"
   ]
  },
  {
   "cell_type": "code",
   "execution_count": 38,
   "id": "7fcb6254",
   "metadata": {},
   "outputs": [
    {
     "data": {
      "text/plain": [
       "True"
      ]
     },
     "execution_count": 38,
     "metadata": {},
     "output_type": "execute_result"
    },
    {
     "name": "stderr",
     "output_type": "stream",
     "text": [
      "/opt/miniconda3/lib/python3.12/site-packages/langchain_core/_api/deprecation.py:141: LangChainDeprecationWarning: The method `Chain.__call__` was deprecated in langchain 0.1.0 and will be removed in 0.3.0. Use invoke instead.\n",
      "  warn_deprecated(\n"
     ]
    },
    {
     "data": {
      "text/plain": [
       "{'result': '根据提供的信息，小号至少有两种模式绑定：AXyb模式和XYB模式。但是，也可能存在其他模式，如AX/AXN /AXx模式等。这些模式允许用户通过不同的方式进行小号绑定，以便满足不同的需求。具体的绑定方式和功能可能会有所不同，请参照具体的模式介绍。如果你需要更确切的数量，请提供更多的信息。'}"
      ]
     },
     "execution_count": 38,
     "metadata": {},
     "output_type": "execute_result"
    }
   ],
   "source": [
    "from IPython.core.interactiveshell import InteractiveShell\n",
    "InteractiveShell.ast_node_interactivity = \"all\"\n",
    "from langchain.embeddings.base import Embeddings\n",
    "from langchain.vectorstores import FAISS\n",
    "from langchain.document_loaders import PyPDFLoader\n",
    "from langchain.chains import RetrievalQA\n",
    "import os\n",
    "from dotenv import load_dotenv\n",
    "from typing import List\n",
    "import dashscope\n",
    "\n",
    "# 加载环境变量\n",
    "load_dotenv(override=True)\n",
    "\n",
    "# 设置阿里云API密钥\n",
    "dashscope.api_key = os.getenv(\"ALI_QW_API_KEY\")\n",
    "\n",
    "class AliEmbeddings(Embeddings):\n",
    "    def embed_documents(self, texts: List[str]) -> List[List[float]]:\n",
    "        results = []\n",
    "        for text in texts:\n",
    "            response = dashscope.TextEmbedding.call(model=\"text-embedding-v3\", input=text)\n",
    "            if response.status_code == 200:\n",
    "                results.append(response.output['embeddings'][0][\"embedding\"])\n",
    "            else:\n",
    "                raise Exception(f\"Error: {response.code}, {response.message}\")\n",
    "        return results\n",
    "\n",
    "    def embed_query(self, text: str) -> List[float]:\n",
    "        response = dashscope.TextEmbedding.call(model=\"text-embedding-v3\", input=text)\n",
    "        if response.status_code == 200:\n",
    "            return response.output['embeddings'][0][\"embedding\"]\n",
    "        else:\n",
    "            raise Exception(f\"Error: {response.code}, {response.message}\")\n",
    "\n",
    "# 加载PDF文档\n",
    "loader = PyPDFLoader(\"./云信小号接口文档.pdf\")\n",
    "pages = loader.load_and_split()\n",
    "\n",
    "# 创建嵌入和向量存储\n",
    "embeddings = AliEmbeddings()\n",
    "db = FAISS.from_documents(pages, embeddings)\n",
    "\n",
    "# 执行相似性搜索\n",
    "q = \"小号有几种模式绑定?\"\n",
    "chain = RetrievalQA.from_llm(llm=llm, retriever=db.as_retriever())\n",
    "chain(q, return_only_outputs=True)"
   ]
  },
  {
   "cell_type": "markdown",
   "id": "cd71b2a6",
   "metadata": {},
   "source": [
    "# 插件\n",
    "开发GPT-4插件涉及创建一个API，使用OpenAPI规范来指定其行为，并在插件清单文件中描述插件及其用法。通过这种设置，GPT-4可以有效地充当智能的API调用者，从而获得超越文本生成的能力。"
   ]
  }
 ],
 "metadata": {
  "kernelspec": {
   "display_name": "my-condaenv-kernel",
   "language": "python",
   "name": "my-condaenv-kernel"
  },
  "language_info": {
   "codemirror_mode": {
    "name": "ipython",
    "version": 3
   },
   "file_extension": ".py",
   "mimetype": "text/x-python",
   "name": "python",
   "nbconvert_exporter": "python",
   "pygments_lexer": "ipython3",
   "version": "3.12.4"
  }
 },
 "nbformat": 4,
 "nbformat_minor": 5
}
